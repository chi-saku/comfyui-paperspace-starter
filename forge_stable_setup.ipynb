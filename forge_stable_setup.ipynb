{
  "nbformat": 4,
  "nbformat_minor": 0,
  "metadata": {
    "colab": {
      "provenance": [],
      "authorship_tag": "ABX9TyMZw2Owgx3ga6twHirZHoin",
      "include_colab_link": true
    },
    "kernelspec": {
      "name": "python3",
      "display_name": "Python 3"
    },
    "language_info": {
      "name": "python"
    }
  },
  "cells": [
    {
      "cell_type": "markdown",
      "metadata": {
        "id": "view-in-github",
        "colab_type": "text"
      },
      "source": [
        "<a href=\"https://colab.research.google.com/github/chi-saku/comfyui-google-colab-starter/blob/main/Untitled6.ipynb\" target=\"_parent\"><img src=\"https://colab.research.google.com/assets/colab-badge.svg\" alt=\"Open In Colab\"/></a>"
      ]
    },
    {
      "cell_type": "code",
      "source": [
        "#@title 1. Google Drive接続\n",
        "from google.colab import drive\n",
        "import os, pathlib, shutil, subprocess, sys\n",
        "\n",
        "drive.mount('/content/drive')\n",
        "print(\"Google Drive接続完了\")\n"
      ],
      "metadata": {
        "id": "wU2t-ew0O2sf"
      },
      "execution_count": null,
      "outputs": []
    },
    {
      "cell_type": "code",
      "source": [
        "#@title 2. PyTorch互換性修正（安定動作用）\n",
        "# Forge起動エラー回避のため、推奨バージョンに統一します\n",
        "print(\"PyTorch互換性を修正中...\")\n",
        "\n",
        "# 既存パッケージのクリーンアップ\n",
        "subprocess.run([sys.executable, '-m', 'pip', 'uninstall', '-y',\n",
        "               'torch', 'torchvision', 'torchaudio', 'xformers', 'triton'],\n",
        "               check=False, capture_output=True)\n",
        "\n",
        "# Forge推奨バージョンをインストール\n",
        "subprocess.run([\n",
        "    sys.executable, '-m', 'pip', 'install', '-q',\n",
        "    '--index-url', 'https://download.pytorch.org/whl/cu121',\n",
        "    'torch==2.3.1+cu121', 'torchvision==0.18.1+cu121', 'torchaudio==2.3.1+cu121'\n",
        "], check=True)\n",
        "\n",
        "subprocess.run([sys.executable, '-m', 'pip', 'install', '-q',\n",
        "               'xformers==0.0.27.post2'], check=True)\n",
        "\n",
        "import torch\n",
        "print(f\"PyTorch: {torch.__version__}, CUDA: {torch.version.cuda}\")\n"
      ],
      "metadata": {
        "id": "pkfv2iTAO34G"
      },
      "execution_count": null,
      "outputs": []
    },
    {
      "cell_type": "code",
      "source": [
        "#@title 2. PyTorch互換性修正（安定動作用）\n",
        "# Forge起動エラー回避のため、推奨バージョンに統一します\n",
        "print(\"PyTorch互換性を修正中...\")\n",
        "\n",
        "# 既存パッケージのクリーンアップ\n",
        "subprocess.run([sys.executable, '-m', 'pip', 'uninstall', '-y',\n",
        "               'torch', 'torchvision', 'torchaudio', 'xformers', 'triton'],\n",
        "               check=False, capture_output=True)\n",
        "\n",
        "# Forge推奨バージョンをインストール\n",
        "subprocess.run([\n",
        "    sys.executable, '-m', 'pip', 'install', '-q',\n",
        "    '--index-url', 'https://download.pytorch.org/whl/cu121',\n",
        "    'torch==2.3.1+cu121', 'torchvision==0.18.1+cu121', 'torchaudio==2.3.1+cu121'\n",
        "], check=True)\n",
        "\n",
        "subprocess.run([sys.executable, '-m', 'pip', 'install', '-q',\n",
        "               'xformers==0.0.27.post2'], check=True)\n",
        "\n",
        "import torch\n",
        "print(f\"PyTorch: {torch.__version__}, CUDA: {torch.version.cuda}\")\n"
      ],
      "metadata": {
        "id": "3V2g7FcNO5z2"
      },
      "execution_count": null,
      "outputs": []
    },
    {
      "cell_type": "code",
      "source": [
        "#@title 4. Forge起動\n",
        "import re\n",
        "\n",
        "os.chdir(repo_dir)\n",
        "print(\"Forgeを起動します...\")\n",
        "print(\"ヒント: 起動後、画面左上のUIフィルターを「all」にすると全機能が表示されます\")\n",
        "\n",
        "process = subprocess.Popen([\n",
        "    'python', 'launch.py',\n",
        "    '--share',\n",
        "    '--theme', 'dark',\n",
        "    '--enable-insecure-extension-access',\n",
        "    '--xformers',\n",
        "    '--no-half-vae',\n",
        "    '--api',\n",
        "    '--skip-python-version-check'\n",
        "], stdout=subprocess.PIPE, stderr=subprocess.STDOUT, text=True)\n",
        "\n",
        "for line in process.stdout:\n",
        "    print(line, end='')\n",
        "    if 'Running on public URL:' in line:\n",
        "        url_match = re.search(r'https://[^\\s]+', line)\n",
        "        if url_match:\n",
        "            print(f'\\n🎉 Forgeアクセス用URL: {url_match.group(0)}')\n"
      ],
      "metadata": {
        "id": "o8334vVzO9AK"
      },
      "execution_count": null,
      "outputs": []
    }
  ]
}
